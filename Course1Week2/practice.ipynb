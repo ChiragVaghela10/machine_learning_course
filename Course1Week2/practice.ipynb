{
 "cells": [
  {
   "cell_type": "code",
   "id": "initial_id",
   "metadata": {
    "collapsed": true,
    "ExecuteTime": {
     "end_time": "2024-09-06T08:13:09.947069Z",
     "start_time": "2024-09-06T08:13:09.939379Z"
    }
   },
   "source": [
    "import numpy as np\n",
    "from matplotlib import pyplot as plt"
   ],
   "outputs": [],
   "execution_count": 64
  },
  {
   "metadata": {
    "ExecuteTime": {
     "end_time": "2024-09-06T08:13:09.951111Z",
     "start_time": "2024-09-06T08:13:09.947069Z"
    }
   },
   "cell_type": "code",
   "source": [
    "X = np.arange(0, 3 ,1)\n",
    "y = X ** 2"
   ],
   "id": "891a028425b94384",
   "outputs": [],
   "execution_count": 65
  },
  {
   "metadata": {
    "ExecuteTime": {
     "end_time": "2024-09-06T08:13:10.014345Z",
     "start_time": "2024-09-06T08:13:09.951111Z"
    }
   },
   "cell_type": "code",
   "source": [
    "plt.scatter(X, y, color='orange', label='truth')\n",
    "plt.legend()\n",
    "plt.show()"
   ],
   "id": "2205ae7eec1b5e38",
   "outputs": [
    {
     "data": {
      "text/plain": [
       "<Figure size 640x480 with 1 Axes>"
      ],
      "image/png": "[encoded data removed]"
     },
     "metadata": {},
     "output_type": "display_data"
    }
   ],
   "execution_count": 66
  },
  {
   "metadata": {
    "ExecuteTime": {
     "end_time": "2024-09-06T08:13:10.018730Z",
     "start_time": "2024-09-06T08:13:10.014345Z"
    }
   },
   "cell_type": "code",
   "source": [
    "w = np.array([0, 0, 0])\n",
    "b = 0\n",
    "X = np.c_[X, X**2, X**3]   # performing feature engineering\n",
    "print(X)"
   ],
   "id": "1f1981b6a92d014c",
   "outputs": [
    {
     "name": "stdout",
     "output_type": "stream",
     "text": [
      "[[0 0 0]\n",
      " [1 1 1]\n",
      " [2 4 8]]\n"
     ]
    }
   ],
   "execution_count": 67
  },
  {
   "metadata": {
    "ExecuteTime": {
     "end_time": "2024-09-06T08:13:10.023381Z",
     "start_time": "2024-09-06T08:13:10.018730Z"
    }
   },
   "cell_type": "code",
   "source": [
    "def cost_function(x, y, w, b) -> float:\n",
    "    m = len(y)\n",
    "    cost = 0\n",
    "    for i in range(m):\n",
    "        f_wb = np.dot(x[i], w) + b\n",
    "        cost += (f_wb - y[i]) ** 2\n",
    "    cost = cost / (2.0 * m)\n",
    "    return cost"
   ],
   "id": "2d13d59fcc3a6332",
   "outputs": [],
   "execution_count": 68
  },
  {
   "metadata": {
    "ExecuteTime": {
     "end_time": "2024-09-06T08:13:10.027357Z",
     "start_time": "2024-09-06T08:13:10.023381Z"
    }
   },
   "cell_type": "code",
   "source": [
    "def gradient_function(x, y, w, b) -> tuple:\n",
    "    m, n = x.shape\n",
    "    dj_dw = np.zeros((n,))\n",
    "    dj_db = 0\n",
    "    \n",
    "    for i in range(m):\n",
    "        err = np.dot(x[i], w) + b\n",
    "        for j in range(n):\n",
    "            dj_dw[j] += (err - y[i]) * x[i, j]\n",
    "        dj_db += err - y[i]\n",
    "    dj_dw /= m\n",
    "    dj_db /= m\n",
    "    return dj_dw, dj_db"
   ],
   "id": "87e6588484814fee",
   "outputs": [],
   "execution_count": 69
  },
  {
   "metadata": {
    "ExecuteTime": {
     "end_time": "2024-09-06T08:13:10.031123Z",
     "start_time": "2024-09-06T08:13:10.027357Z"
    }
   },
   "cell_type": "code",
   "source": [
    "def gradient_descent(x, y, w, b, alpha=0.1, iters=100) -> tuple:\n",
    "    for i in range(iters):\n",
    "        dj_dw, dj_db = gradient_function(x, y, w, b)\n",
    "        w = w - alpha * dj_dw\n",
    "        b = b - alpha * dj_db\n",
    "        if i % 20 == 0:\n",
    "            print('i=', i, 'Cost: ', cost_function(x, y, w, b), 'w: ', w, 'b: ', b)\n",
    "    return w, b"
   ],
   "id": "901baabb02448e5c",
   "outputs": [],
   "execution_count": 70
  },
  {
   "metadata": {
    "ExecuteTime": {
     "end_time": "2024-09-06T08:13:10.039256Z",
     "start_time": "2024-09-06T08:13:10.031123Z"
    }
   },
   "cell_type": "code",
   "source": "gradient_descent(X, y, w, b)",
   "id": "ef89067f552e7f09",
   "outputs": [
    {
     "name": "stdout",
     "output_type": "stream",
     "text": [
      "i= 0 Cost:  10.445555555555558 w:  [0.3        0.56666667 1.1       ] b:  0.16666666666666669\n",
      "i= 20 Cost:  2408912132862.737 w:  [ 92978.4458827  178304.48589687 348956.56592522] b:  50895.674123487785\n",
      "i= 40 Cost:  5.562010961876914e+23 w:  [4.46772908e+10 8.56775692e+10 1.67678126e+11] b:  24455998292.023987\n",
      "i= 60 Cost:  1.2842297366519092e+35 w:  [2.14680338e+16 4.11692142e+16 8.05715749e+16] b:  1.1751433196938704e+16\n",
      "i= 80 Cost:  2.965197350032715e+46 w:  [1.03156764e+22 1.97823562e+22 3.87157158e+22] b:  5.646720306965524e+21\n"
     ]
    },
    {
     "data": {
      "text/plain": [
       "(array([-2.57702054e+27, -4.94194817e+27, -9.67180345e+27]),\n",
       " np.float64(-1.4106408152664623e+27))"
      ]
     },
     "execution_count": 71,
     "metadata": {},
     "output_type": "execute_result"
    }
   ],
   "execution_count": 71
  },
  {
   "metadata": {
    "ExecuteTime": {
     "end_time": "2024-09-06T08:13:10.041466Z",
     "start_time": "2024-09-06T08:13:10.039256Z"
    }
   },
   "cell_type": "code",
   "source": "",
   "id": "4cd1ceaa66f07eba",
   "outputs": [],
   "execution_count": 71
  }
 ],
 "metadata": {
  "kernelspec": {
   "display_name": "Python 3",
   "language": "python",
   "name": "python3"
  },
  "language_info": {
   "codemirror_mode": {
    "name": "ipython",
    "version": 2
   },
   "file_extension": ".py",
   "mimetype": "text/x-python",
   "name": "python",
   "nbconvert_exporter": "python",
   "pygments_lexer": "ipython2",
   "version": "2.7.6"
  }
 },
 "nbformat": 4,
 "nbformat_minor": 5
}
