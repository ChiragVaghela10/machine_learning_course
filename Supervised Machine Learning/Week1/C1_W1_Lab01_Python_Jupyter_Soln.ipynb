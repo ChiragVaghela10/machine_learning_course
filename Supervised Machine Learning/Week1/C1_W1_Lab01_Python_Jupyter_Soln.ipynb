{
 "cells": [
  {
   "cell_type": "markdown",
   "metadata": {},
   "source": [
    "# Optional Lab:  Brief Introduction to Python and Jupyter Notebooks\n",
    "Welcome to the first optional lab! \n",
    "Optional labs are available to:\n",
    "- provide information - like this notebook\n",
    "- reinforce lecture material with hands-on examples\n",
    "- provide working examples of routines used in the graded labs"
   ],
   "id": "9ab6c12e3cad9471"
  },
  {
   "cell_type": "markdown",
   "metadata": {},
   "source": [
    "## Goals\n",
    "In this lab, you will:\n",
    "- Get a brief introduction to Jupyter notebooks\n",
    "- Take a tour of Jupyter notebooks\n",
    "- Learn the difference between markdown cells and code cells\n",
    "- Practice some basic python\n"
   ],
   "id": "b49f73de547989f8"
  },
  {
   "cell_type": "markdown",
   "metadata": {},
   "source": [
    "The easiest way to become familiar with Jupyter notebooks is to take the tour available above in the Help menu:"
   ],
   "id": "6f6dc731468b3cfb"
  },
  {
   "cell_type": "markdown",
   "metadata": {},
   "source": [
    "<figure>\n",
    "    <center> <img src=\"./images/C1W1L1_Tour.PNG\"  alt='missing' width=\"400\"  ><center/>\n",
    "<figure/>"
   ],
   "id": "974e5b136bc9d9"
  },
  {
   "cell_type": "markdown",
   "metadata": {},
   "source": [
    "Jupyter notebooks have two types of cells that are used in this course. Cells such as this which contain documentation called `Markdown Cells`. The name is derived from the simple formatting language used in the cells. You will not be required to produce markdown cells. Its useful to understand the `cell pulldown` shown in graphic below. Occasionally, a cell will end up in the wrong mode and you may need to restore it to the right state:"
   ],
   "id": "b5e226d598ea4db2"
  },
  {
   "cell_type": "markdown",
   "metadata": {},
   "source": [
    "<figure>\n",
    "   <img src=\"./images/C1W1L1_Markdown.PNG\"  alt='missing' width=\"400\"  >\n",
    "<figure/>"
   ],
   "id": "e9a5cbfab74d092d"
  },
  {
   "cell_type": "markdown",
   "metadata": {},
   "source": [
    "The other type of cell is the `code cell` where you will write your code:"
   ],
   "id": "481a8513c88025ea"
  },
  {
   "cell_type": "code",
   "metadata": {
    "ExecuteTime": {
     "end_time": "2024-09-06T11:51:23.240110Z",
     "start_time": "2024-09-06T11:51:23.228726Z"
    }
   },
   "source": [
    "#This is  a 'Code' Cell\n",
    "print(\"This is  code cell\")"
   ],
   "id": "71f5243ce4acbfaa",
   "outputs": [
    {
     "name": "stdout",
     "output_type": "stream",
     "text": [
      "This is  code cell\n"
     ]
    }
   ],
   "execution_count": 1
  },
  {
   "cell_type": "markdown",
   "metadata": {},
   "source": [
    "## Python\n",
    "You can write your code in the code cells. \n",
    "To run the code, select the cell and either\n",
    "- hold the shift-key down and hit 'enter' or 'return'\n",
    "- click the 'run' arrow above\n",
    "<figure>\n",
    "    <img src=\"./images/C1W1L1_Run.PNG\"  width=\"400\"  >\n",
    "<figure/>\n",
    "\n",
    " "
   ],
   "id": "f24f74cf28435697"
  },
  {
   "cell_type": "markdown",
   "metadata": {},
   "source": [
    "### Print statement\n",
    "Print statements will generally use the python f-string style.  \n",
    "Try creating your own print in the following cell.  \n",
    "Try both methods of running the cell."
   ],
   "id": "3940ff418852176d"
  },
  {
   "cell_type": "code",
   "metadata": {
    "ExecuteTime": {
     "end_time": "2024-09-06T11:51:23.243814Z",
     "start_time": "2024-09-06T11:51:23.240110Z"
    }
   },
   "source": [
    "# print statements\n",
    "variable = \"right in the strings!\"\n",
    "print(f\"f strings allow you to embed variables {variable}\")"
   ],
   "id": "5c048b99fff5e59b",
   "outputs": [
    {
     "name": "stdout",
     "output_type": "stream",
     "text": [
      "f strings allow you to embed variables right in the strings!\n"
     ]
    }
   ],
   "execution_count": 2
  },
  {
   "cell_type": "markdown",
   "metadata": {},
   "source": [
    "# Congratulations!\n",
    "You now know how to find your way around a Jupyter Notebook."
   ],
   "id": "eac26b6b744d9b85"
  }
 ],
 "metadata": {
  "kernelspec": {
   "display_name": "Python 3",
   "language": "python",
   "name": "python3"
  },
  "language_info": {
   "codemirror_mode": {
    "name": "ipython",
    "version": 3
   },
   "file_extension": ".py",
   "mimetype": "text/x-python",
   "name": "python",
   "nbconvert_exporter": "python",
   "pygments_lexer": "ipython3",
   "version": "3.7.6"
  }
 },
 "nbformat": 4,
 "nbformat_minor": 5
}
