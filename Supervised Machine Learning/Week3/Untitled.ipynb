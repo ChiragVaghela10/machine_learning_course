{
 "cells": [
  {
   "metadata": {
    "ExecuteTime": {
     "end_time": "2024-09-11T11:18:20.903226Z",
     "start_time": "2024-09-11T11:18:20.804354Z"
    }
   },
   "cell_type": "code",
   "source": "import numpy as np",
   "id": "64c7b18a7425f4c1",
   "outputs": [],
   "execution_count": 2
  },
  {
   "metadata": {},
   "cell_type": "code",
   "outputs": [],
   "execution_count": null,
   "source": "",
   "id": "54c018c915f73fc8"
  }
 ],
 "metadata": {
  "kernelspec": {
   "name": "python3",
   "language": "python",
   "display_name": "Python 3 (ipykernel)"
  }
 },
 "nbformat": 4,
 "nbformat_minor": 5
}
