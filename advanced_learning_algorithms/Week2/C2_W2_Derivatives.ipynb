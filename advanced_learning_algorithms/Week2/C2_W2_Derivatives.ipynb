{
 "cells": [
  {
   "cell_type": "markdown",
   "metadata": {
    "tags": []
   },
   "source": [
    "# Optional Lab - Derivatives\n",
    "This lab will give you a more intuitive understanding of derivatives. It will show you a simple way of calculating derivatives arithmetically. It will also introduce you to a handy Python library that allows you to calculate derivatives symbolically."
   ],
   "id": "97079ba80348ce59"
  },
  {
   "cell_type": "code",
   "metadata": {
    "ExecuteTime": {
     "end_time": "2024-09-24T12:44:33.195869Z",
     "start_time": "2024-09-24T12:44:32.580912Z"
    }
   },
   "source": [
    "from sympy import symbols, diff"
   ],
   "id": "8614d73cb70371d3",
   "outputs": [],
   "execution_count": 1
  },
  {
   "cell_type": "markdown",
   "metadata": {},
   "source": [
    "## Informal definition of derivatives"
   ],
   "id": "11b352183e83fb6f"
  },
  {
   "cell_type": "markdown",
   "metadata": {},
   "source": [
    "The formal definition of derivatives can be a bit daunting with limits and values 'going to zero'. The idea is really much simpler. \n",
    "\n",
    "The derivative of a function describes how the output of a function changes when there is a small change in an input variable.\n",
    "\n",
    "Let's use the cost function $J(w)$ as an example. The cost $J$ is the output and $w$ is the input variable.  \n",
    "Let's give a 'small change' a name *epsilon* or $\\epsilon$. We use these Greek letters because it is traditional in mathematics to use *epsilon*($\\epsilon$) or *delta* ($\\Delta$) to represent a small value. You can think of it as representing 0.001 or some other small value.  \n",
    "\n",
    "$$\n",
    "\\begin{equation}\n",
    "\\text{if } w \\uparrow \\epsilon \\text{ causes }J(w) \\uparrow \\text{by }k \\times \\epsilon \\text{ then}  \\\\\n",
    "\\frac{\\partial J(w)}{\\partial w} = k \\tag{1}\n",
    "\\end{equation}\n",
    "$$\n",
    "\n",
    "This just says if you change the input to the function $J(w)$ by a little bit and the output changes by $k$ times that little bit, then the derivative of $J(w)$ is equal to $k$.\n",
    "\n",
    "Let's try this out.  Let's look at the derivative of the function $J(w) = w^2$ at the point $w=3$ and $\\epsilon = 0.001$"
   ],
   "id": "81054aa64d0c3375"
  },
  {
   "cell_type": "code",
   "metadata": {
    "ExecuteTime": {
     "end_time": "2024-09-24T12:44:33.199879Z",
     "start_time": "2024-09-24T12:44:33.195869Z"
    }
   },
   "source": [
    "J = (3)**2\n",
    "J_epsilon = (3 + 0.001)**2\n",
    "k = (J_epsilon - J)/0.001    # difference divided by epsilon\n",
    "print(f\"J = {J}, J_epsilon = {J_epsilon}, dJ_dw ~= k = {k:0.6f} \")"
   ],
   "id": "2f5ac8a3b6217483",
   "outputs": [
    {
     "name": "stdout",
     "output_type": "stream",
     "text": [
      "J = 9, J_epsilon = 9.006001, dJ_dw ~= k = 6.001000 \n"
     ]
    }
   ],
   "execution_count": 2
  },
  {
   "cell_type": "markdown",
   "metadata": {},
   "source": [
    "We have increased the input value a little bit (0.001), causing the output to change from 9 to 9.006001, an increase of 6 times the input increase. Referencing (1) above, this says that $k=6$, so $\\frac{\\partial J(w)}{\\partial w} \\approx 6$. If you are familiar with calculus, you know, written symbolically,  $\\frac{\\partial J(w)}{\\partial w} = 2 w$. With $w=3$ this is 6. Our calculation above is not exactly 6 because to be exactly correct $\\epsilon$ would need to be [infinitesimally small](https://www.dictionary.com/browse/infinitesimally) or really, really small. That is why we use the symbols $\\approx$ or ~= rather than =. Let's see what happens if we make $\\epsilon$ smaller."
   ],
   "id": "a8e7da810ac9cda4"
  },
  {
   "cell_type": "code",
   "metadata": {
    "ExecuteTime": {
     "end_time": "2024-09-24T12:45:56.714054Z",
     "start_time": "2024-09-24T12:45:56.709548Z"
    }
   },
   "source": [
    "J = (3)**2\n",
    "J_epsilon = (3 + 0.000000001)**2\n",
    "k = (J_epsilon - J)/0.000000001\n",
    "print(f\"J = {J}, J_epsilon = {J_epsilon}, dJ_dw ~= k = {k} \")"
   ],
   "id": "f7ab00d4d3455262",
   "outputs": [
    {
     "name": "stdout",
     "output_type": "stream",
     "text": [
      "J = 9, J_epsilon = 9.000000006, dJ_dw ~= k = 6.000000496442226 \n"
     ]
    }
   ],
   "execution_count": 3
  },
  {
   "cell_type": "markdown",
   "metadata": {},
   "source": [
    "The value gets close to exactly 6 as we reduce the size of $\\epsilon$. Feel free to try reducing the value further."
   ],
   "id": "a0d675e9d3870c3a"
  },
  {
   "cell_type": "markdown",
   "metadata": {},
   "source": [
    "## Finding symbolic derivatives\n",
    "In backprop it is useful to know the derivative of simple functions at any input value. Put another way, we would like to know the 'symbolic' derivative rather than the 'arithmetic' derivative. An example of a symbolic derivative is,  $\\frac{\\partial J(w)}{\\partial w} = 2 w$, the derivative of $J(w) = w^2$ above.  With the symbolic derivative you can find the value of the derivative at any input value $w$.  \n",
    "\n",
    "If you have taken a calculus course, you are familiar with the many [differentiation rules](https://en.wikipedia.org/wiki/Differentiation_rules#Power_laws,_polynomials,_quotients,_and_reciprocals) that mathematicians have developed to solve for a derivative given an expression. Well, it turns out this process has been automated with symbolic differentiation programs. An example of this in python is the [SymPy](https://www.sympy.org/en/index.html) library. Let's take a look at how to use this."
   ],
   "id": "8e1b1cdd22a9e226"
  },
  {
   "cell_type": "markdown",
   "metadata": {},
   "source": [
    "### $J = w^2$\n",
    "Define the python variables and their symbolic names."
   ],
   "id": "dc703b47624813fd"
  },
  {
   "cell_type": "code",
   "metadata": {
    "ExecuteTime": {
     "end_time": "2024-09-24T12:46:03.385756Z",
     "start_time": "2024-09-24T12:46:03.379787Z"
    }
   },
   "source": [
    "J, w = symbols('J, w')"
   ],
   "id": "b77b7bc092bae4d6",
   "outputs": [],
   "execution_count": 4
  },
  {
   "cell_type": "markdown",
   "metadata": {},
   "source": [
    "Define and print the expression. Note SymPy produces a [latex](https://en.wikibooks.org/wiki/LaTeX/Mathematics) string which generates a nicely readable equation."
   ],
   "id": "a01e43574d53a9a"
  },
  {
   "cell_type": "code",
   "metadata": {
    "ExecuteTime": {
     "end_time": "2024-09-24T12:46:08.692237Z",
     "start_time": "2024-09-24T12:46:08.684593Z"
    }
   },
   "source": [
    "J=w**2\n",
    "J"
   ],
   "id": "76c8b37e35bef627",
   "outputs": [
    {
     "data": {
      "text/plain": [
       "w**2"
      ],
      "text/latex": "$\\displaystyle w^{2}$"
     },
     "execution_count": 5,
     "metadata": {},
     "output_type": "execute_result"
    }
   ],
   "execution_count": 5
  },
  {
   "cell_type": "markdown",
   "metadata": {},
   "source": [
    "Use SymPy's `diff` to differentiate the expression for $J$ with respect to $w$. Note the result matches our earlier example."
   ],
   "id": "d20be2f939bd9557"
  },
  {
   "cell_type": "code",
   "metadata": {
    "ExecuteTime": {
     "end_time": "2024-09-24T12:46:10.713714Z",
     "start_time": "2024-09-24T12:46:10.643498Z"
    }
   },
   "source": [
    "dJ_dw = diff(J,w)\n",
    "dJ_dw"
   ],
   "id": "5538212972ab329f",
   "outputs": [
    {
     "data": {
      "text/plain": [
       "2*w"
      ],
      "text/latex": "$\\displaystyle 2 w$"
     },
     "execution_count": 6,
     "metadata": {},
     "output_type": "execute_result"
    }
   ],
   "execution_count": 6
  },
  {
   "cell_type": "markdown",
   "metadata": {},
   "source": [
    "Evaluate the derivative at a few points by 'substituting' numeric values for the symbolic values. In the first example, $w$ is replaced by $2$."
   ],
   "id": "e379971fe9c3afed"
  },
  {
   "cell_type": "code",
   "metadata": {
    "ExecuteTime": {
     "end_time": "2024-09-24T12:46:13.115777Z",
     "start_time": "2024-09-24T12:46:13.110249Z"
    }
   },
   "source": [
    "dJ_dw.subs([(w,2)])    # derivative at the point w = 2"
   ],
   "id": "6bbdbb1569a47880",
   "outputs": [
    {
     "data": {
      "text/plain": [
       "4"
      ],
      "text/latex": "$\\displaystyle 4$"
     },
     "execution_count": 7,
     "metadata": {},
     "output_type": "execute_result"
    }
   ],
   "execution_count": 7
  },
  {
   "cell_type": "code",
   "metadata": {
    "scrolled": true,
    "ExecuteTime": {
     "end_time": "2024-09-24T12:46:13.315187Z",
     "start_time": "2024-09-24T12:46:13.310029Z"
    }
   },
   "source": [
    "dJ_dw.subs([(w,3)])    # derivative at the point w = 3"
   ],
   "id": "ba8b3128a3dcb2d2",
   "outputs": [
    {
     "data": {
      "text/plain": [
       "6"
      ],
      "text/latex": "$\\displaystyle 6$"
     },
     "execution_count": 8,
     "metadata": {},
     "output_type": "execute_result"
    }
   ],
   "execution_count": 8
  },
  {
   "cell_type": "code",
   "metadata": {
    "ExecuteTime": {
     "end_time": "2024-09-24T12:46:13.593480Z",
     "start_time": "2024-09-24T12:46:13.583416Z"
    }
   },
   "source": [
    "dJ_dw.subs([(w,-3)])    # derivative at the point w = -3"
   ],
   "id": "ca882981decb7ffb",
   "outputs": [
    {
     "data": {
      "text/plain": [
       "-6"
      ],
      "text/latex": "$\\displaystyle -6$"
     },
     "execution_count": 9,
     "metadata": {},
     "output_type": "execute_result"
    }
   ],
   "execution_count": 9
  },
  {
   "cell_type": "markdown",
   "metadata": {},
   "source": [
    "## $J = 2w$"
   ],
   "id": "4c942669f251a537"
  },
  {
   "cell_type": "code",
   "metadata": {
    "tags": [],
    "ExecuteTime": {
     "end_time": "2024-09-24T12:46:13.964506Z",
     "start_time": "2024-09-24T12:46:13.961494Z"
    }
   },
   "source": [
    "w, J = symbols('w, J')"
   ],
   "id": "8bef3fdd34540390",
   "outputs": [],
   "execution_count": 10
  },
  {
   "cell_type": "code",
   "metadata": {
    "ExecuteTime": {
     "end_time": "2024-09-24T12:46:14.118277Z",
     "start_time": "2024-09-24T12:46:14.111261Z"
    }
   },
   "source": [
    "J = 2 * w\n",
    "J"
   ],
   "id": "be3d9623bdb043e",
   "outputs": [
    {
     "data": {
      "text/plain": [
       "2*w"
      ],
      "text/latex": "$\\displaystyle 2 w$"
     },
     "execution_count": 11,
     "metadata": {},
     "output_type": "execute_result"
    }
   ],
   "execution_count": 11
  },
  {
   "cell_type": "code",
   "metadata": {
    "tags": [],
    "ExecuteTime": {
     "end_time": "2024-09-24T12:46:14.254385Z",
     "start_time": "2024-09-24T12:46:14.243497Z"
    }
   },
   "source": [
    "dJ_dw = diff(J,w)\n",
    "dJ_dw"
   ],
   "id": "17f0cdab7131dca7",
   "outputs": [
    {
     "data": {
      "text/plain": [
       "2"
      ],
      "text/latex": "$\\displaystyle 2$"
     },
     "execution_count": 12,
     "metadata": {},
     "output_type": "execute_result"
    }
   ],
   "execution_count": 12
  },
  {
   "cell_type": "code",
   "metadata": {
    "ExecuteTime": {
     "end_time": "2024-09-24T12:46:14.401306Z",
     "start_time": "2024-09-24T12:46:14.393359Z"
    }
   },
   "source": [
    "dJ_dw.subs([(w,-3)])    # derivative at the point w = -3"
   ],
   "id": "bef651d4f7cdf8ca",
   "outputs": [
    {
     "data": {
      "text/plain": [
       "2"
      ],
      "text/latex": "$\\displaystyle 2$"
     },
     "execution_count": 13,
     "metadata": {},
     "output_type": "execute_result"
    }
   ],
   "execution_count": 13
  },
  {
   "cell_type": "markdown",
   "metadata": {},
   "source": [
    "Compare this with the arithmetic calculation"
   ],
   "id": "b967d6ed82e24527"
  },
  {
   "cell_type": "code",
   "metadata": {
    "ExecuteTime": {
     "end_time": "2024-09-24T12:46:14.659843Z",
     "start_time": "2024-09-24T12:46:14.656662Z"
    }
   },
   "source": [
    "J = 2*3\n",
    "J_epsilon = 2*(3 + 0.001)\n",
    "k = (J_epsilon - J)/0.001\n",
    "print(f\"J = {J}, J_epsilon = {J_epsilon}, dJ_dw ~= k = {k} \")"
   ],
   "id": "8c84f5941104bf71",
   "outputs": [
    {
     "name": "stdout",
     "output_type": "stream",
     "text": [
      "J = 6, J_epsilon = 6.002, dJ_dw ~= k = 1.9999999999997797 \n"
     ]
    }
   ],
   "execution_count": 14
  },
  {
   "cell_type": "markdown",
   "metadata": {},
   "source": [
    "For the function $J=2w$, it is easy to see that any change in $w$ will result in 2 times that amount of change in the output $J$, regardless of the starting value of $w$. Our NumPy and arithmetic results confirm this. "
   ],
   "id": "482149fa7093e66c"
  },
  {
   "cell_type": "markdown",
   "metadata": {},
   "source": [
    "## $J = w^3$"
   ],
   "id": "1fa9917574c78a13"
  },
  {
   "cell_type": "code",
   "metadata": {
    "ExecuteTime": {
     "end_time": "2024-09-24T12:46:15.288286Z",
     "start_time": "2024-09-24T12:46:15.281084Z"
    }
   },
   "source": [
    "J, w = symbols('J, w')"
   ],
   "id": "c0da14e5fcdbc847",
   "outputs": [],
   "execution_count": 15
  },
  {
   "cell_type": "code",
   "metadata": {
    "ExecuteTime": {
     "end_time": "2024-09-24T12:46:15.414957Z",
     "start_time": "2024-09-24T12:46:15.408303Z"
    }
   },
   "source": [
    "J=w**3\n",
    "J"
   ],
   "id": "8d1a623f0906a867",
   "outputs": [
    {
     "data": {
      "text/plain": [
       "w**3"
      ],
      "text/latex": "$\\displaystyle w^{3}$"
     },
     "execution_count": 16,
     "metadata": {},
     "output_type": "execute_result"
    }
   ],
   "execution_count": 16
  },
  {
   "cell_type": "code",
   "metadata": {
    "ExecuteTime": {
     "end_time": "2024-09-24T12:46:15.583904Z",
     "start_time": "2024-09-24T12:46:15.573358Z"
    }
   },
   "source": [
    "dJ_dw = diff(J,w)\n",
    "dJ_dw"
   ],
   "id": "d3e8c72c3d81a7b5",
   "outputs": [
    {
     "data": {
      "text/plain": [
       "3*w**2"
      ],
      "text/latex": "$\\displaystyle 3 w^{2}$"
     },
     "execution_count": 17,
     "metadata": {},
     "output_type": "execute_result"
    }
   ],
   "execution_count": 17
  },
  {
   "cell_type": "code",
   "metadata": {
    "ExecuteTime": {
     "end_time": "2024-09-24T12:46:15.756146Z",
     "start_time": "2024-09-24T12:46:15.751065Z"
    }
   },
   "source": [
    "dJ_dw.subs([(w,2)])   # derivative at the point w=2"
   ],
   "id": "e34f43c3dcd46ae4",
   "outputs": [
    {
     "data": {
      "text/plain": [
       "12"
      ],
      "text/latex": "$\\displaystyle 12$"
     },
     "execution_count": 18,
     "metadata": {},
     "output_type": "execute_result"
    }
   ],
   "execution_count": 18
  },
  {
   "cell_type": "markdown",
   "metadata": {},
   "source": [
    "Compare this with the arithmetic calculation"
   ],
   "id": "5d48be05ebf2634b"
  },
  {
   "cell_type": "code",
   "metadata": {
    "ExecuteTime": {
     "end_time": "2024-09-24T12:46:16.073347Z",
     "start_time": "2024-09-24T12:46:16.065005Z"
    }
   },
   "source": [
    "J = (2)**3\n",
    "J_epsilon = (2+0.001)**3\n",
    "k = (J_epsilon - J)/0.001\n",
    "print(f\"J = {J}, J_epsilon = {J_epsilon}, dJ_dw ~= k = {k} \")"
   ],
   "id": "1b789af7f4047b63",
   "outputs": [
    {
     "name": "stdout",
     "output_type": "stream",
     "text": [
      "J = 8, J_epsilon = 8.012006000999998, dJ_dw ~= k = 12.006000999997823 \n"
     ]
    }
   ],
   "execution_count": 19
  },
  {
   "cell_type": "markdown",
   "metadata": {},
   "source": [
    "## $J = \\frac{1}{w}$"
   ],
   "id": "bb3fa455c9fc83b1"
  },
  {
   "cell_type": "code",
   "metadata": {
    "ExecuteTime": {
     "end_time": "2024-09-24T12:46:16.380429Z",
     "start_time": "2024-09-24T12:46:16.377001Z"
    }
   },
   "source": [
    "J, w = symbols('J, w')"
   ],
   "id": "e1129c0b962318d3",
   "outputs": [],
   "execution_count": 20
  },
  {
   "cell_type": "code",
   "metadata": {
    "ExecuteTime": {
     "end_time": "2024-09-24T12:46:16.566197Z",
     "start_time": "2024-09-24T12:46:16.553378Z"
    }
   },
   "source": [
    "J= 1/w\n",
    "J"
   ],
   "id": "dc8391a5f3f038bc",
   "outputs": [
    {
     "data": {
      "text/plain": [
       "1/w"
      ],
      "text/latex": "$\\displaystyle \\frac{1}{w}$"
     },
     "execution_count": 21,
     "metadata": {},
     "output_type": "execute_result"
    }
   ],
   "execution_count": 21
  },
  {
   "cell_type": "code",
   "metadata": {
    "ExecuteTime": {
     "end_time": "2024-09-24T12:46:16.735437Z",
     "start_time": "2024-09-24T12:46:16.728340Z"
    }
   },
   "source": [
    "dJ_dw = diff(J,w)\n",
    "dJ_dw"
   ],
   "id": "b3f5c7613c1cf554",
   "outputs": [
    {
     "data": {
      "text/plain": [
       "-1/w**2"
      ],
      "text/latex": "$\\displaystyle - \\frac{1}{w^{2}}$"
     },
     "execution_count": 22,
     "metadata": {},
     "output_type": "execute_result"
    }
   ],
   "execution_count": 22
  },
  {
   "cell_type": "code",
   "metadata": {
    "ExecuteTime": {
     "end_time": "2024-09-24T12:46:16.894900Z",
     "start_time": "2024-09-24T12:46:16.889754Z"
    }
   },
   "source": [
    "dJ_dw.subs([(w,2)])"
   ],
   "id": "efe06d863987072d",
   "outputs": [
    {
     "data": {
      "text/plain": [
       "-1/4"
      ],
      "text/latex": "$\\displaystyle - \\frac{1}{4}$"
     },
     "execution_count": 23,
     "metadata": {},
     "output_type": "execute_result"
    }
   ],
   "execution_count": 23
  },
  {
   "cell_type": "markdown",
   "metadata": {},
   "source": [
    "Compare this with the arithmetic calculation"
   ],
   "id": "62d3803dadd174cd"
  },
  {
   "cell_type": "code",
   "metadata": {
    "ExecuteTime": {
     "end_time": "2024-09-24T12:46:17.344867Z",
     "start_time": "2024-09-24T12:46:17.333062Z"
    }
   },
   "source": [
    "J = 1/2\n",
    "J_epsilon = 1/(2+0.001)\n",
    "k = (J_epsilon - J)/0.001\n",
    "print(f\"J = {J}, J_epsilon = {J_epsilon}, dJ_dw ~= k = {k} \")"
   ],
   "id": "f541716c9b32dd8d",
   "outputs": [
    {
     "name": "stdout",
     "output_type": "stream",
     "text": [
      "J = 0.5, J_epsilon = 0.49975012493753124, dJ_dw ~= k = -0.2498750624687629 \n"
     ]
    }
   ],
   "execution_count": 24
  },
  {
   "cell_type": "markdown",
   "metadata": {},
   "source": [
    "## $J = \\frac{1}{w^2}$"
   ],
   "id": "df8d6ea4e0c6e3ba"
  },
  {
   "cell_type": "code",
   "metadata": {
    "ExecuteTime": {
     "end_time": "2024-09-24T12:46:17.660583Z",
     "start_time": "2024-09-24T12:46:17.657937Z"
    }
   },
   "source": [
    "J, w = symbols('J, w')"
   ],
   "id": "7f8f8fcacf349acd",
   "outputs": [],
   "execution_count": 25
  },
  {
   "cell_type": "markdown",
   "metadata": {},
   "source": [
    "If you have time, try to repeat the above steps on the function  $J = \\frac{1}{w^2}$ and evaluate at w=4"
   ],
   "id": "b63df90cc71fa7ff"
  },
  {
   "cell_type": "code",
   "metadata": {
    "ExecuteTime": {
     "end_time": "2024-09-24T12:46:17.978051Z",
     "start_time": "2024-09-24T12:46:17.973290Z"
    }
   },
   "source": [],
   "id": "408538d7eae518f7",
   "outputs": [],
   "execution_count": 25
  },
  {
   "cell_type": "code",
   "metadata": {
    "ExecuteTime": {
     "end_time": "2024-09-24T12:46:18.115921Z",
     "start_time": "2024-09-24T12:46:18.113578Z"
    }
   },
   "source": [],
   "id": "d48d035de47c9b89",
   "outputs": [],
   "execution_count": 25
  },
  {
   "cell_type": "code",
   "metadata": {
    "ExecuteTime": {
     "end_time": "2024-09-24T12:46:18.300160Z",
     "start_time": "2024-09-24T12:46:18.295930Z"
    }
   },
   "source": [],
   "id": "db34ee0c3d3ef272",
   "outputs": [],
   "execution_count": 25
  },
  {
   "cell_type": "markdown",
   "metadata": {},
   "source": [
    "Compare this with the arithmetic calculation"
   ],
   "id": "cd168dd2f58050b2"
  },
  {
   "cell_type": "code",
   "metadata": {
    "ExecuteTime": {
     "end_time": "2024-09-24T12:46:18.604590Z",
     "start_time": "2024-09-24T12:46:18.594969Z"
    }
   },
   "source": [
    "J = 1/4**2\n",
    "J_epsilon = 1/(4+0.001)**2\n",
    "k = (J_epsilon - J)/0.001\n",
    "print(f\"J = {J}, J_epsilon = {J_epsilon}, dJ_dw ~= k = {k} \")"
   ],
   "id": "78fcadd74fe5adaf",
   "outputs": [
    {
     "name": "stdout",
     "output_type": "stream",
     "text": [
      "J = 0.0625, J_epsilon = 0.06246876171484496, dJ_dw ~= k = -0.031238285155041345 \n"
     ]
    }
   ],
   "execution_count": 26
  },
  {
   "cell_type": "markdown",
   "metadata": {},
   "source": [
    "<details>\n",
    "  <summary><font size=\"3\" color=\"darkgreen\"><b>Click for hints</b></font></summary>\n",
    "    \n",
    "```python \n",
    "J= 1/w**2\n",
    "dJ_dw = diff(J,w)\n",
    "dJ_dw.subs([(w,4)])\n",
    "```\n",
    "  \n",
    "\n",
    "</details>\n",
    "\n",
    "    \n"
   ],
   "id": "d4aa6b61f4d82349"
  },
  {
   "cell_type": "markdown",
   "metadata": {},
   "source": [
    "## Congratulations!\n",
    "If you have run through the above examples, you understand a derivative describes the change in the output of a function that is a result of a small change in an input to that function. You also can use *SymPy* in python to find the symbolic derivative of functions."
   ],
   "id": "12505cdb6fc968c7"
  }
 ],
 "metadata": {
  "kernelspec": {
   "display_name": "Python 3",
   "language": "python",
   "name": "python3"
  },
  "language_info": {
   "codemirror_mode": {
    "name": "ipython",
    "version": 3
   },
   "file_extension": ".py",
   "mimetype": "text/x-python",
   "name": "python",
   "nbconvert_exporter": "python",
   "pygments_lexer": "ipython3",
   "version": "3.7.6"
  }
 },
 "nbformat": 4,
 "nbformat_minor": 5
}
